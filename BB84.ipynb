{
 "cells": [
  {
   "cell_type": "code",
   "execution_count": 1,
   "id": "50812b6f-3bed-4f19-aa0f-299f130ae5da",
   "metadata": {},
   "outputs": [],
   "source": [
    "# Importing standard Qiskit libraries\n",
    "from qiskit import QuantumCircuit, transpile,Aer,assemble, execute\n",
    "from qiskit.tools.jupyter import *\n",
    "from qiskit.visualization import *\n",
    "from ibm_quantum_widgets import *\n",
    "from qiskit_aer import AerSimulator\n",
    "\n",
    "# qiskit-ibmq-provider has been deprecated.\n",
    "# Please see the Migration Guides in https://ibm.biz/provider_migration_guide for more detail.\n",
    "from qiskit_ibm_runtime import QiskitRuntimeService, Sampler, Estimator, Session, Options\n",
    "\n",
    "# Loading your IBM Quantum account(s)\n",
    "service = QiskitRuntimeService(channel=\"ibm_quantum\")\n",
    "\n",
    "# Invoke a primitive inside a session. For more details see https://qiskit.org/documentation/partners/qiskit_ibm_runtime/tutorials.html\n",
    "# with Session(backend=service.backend(\"ibmq_qasm_simulator\")):\n",
    "#     result = Sampler().run(circuits).result()"
   ]
  },
  {
   "cell_type": "code",
   "execution_count": 2,
   "id": "acc6916a-9876-4e65-91b3-3a0460d7c4b5",
   "metadata": {
    "tags": []
   },
   "outputs": [
    {
     "name": "stdout",
     "output_type": "stream",
     "text": [
      "Alice created the key of 10 bits: [0, 1, 1, 0, 0, 0, 1, 0, 1, 1]\n",
      "Alice Superposition choices:['NS', 'NS', 'S', 'NS', 'S', 'NS', 'S', 'NS', 'NS', 'S']\n",
      "Now, Alice 'sends' her qubits to Bob >>>>>>>>>>>>>>>>>>>>>>>>>>>>\n"
     ]
    }
   ],
   "source": [
    "alice_bits = [0,1,1,0,0,0,1,0,1,1]\n",
    "alice_choices = ['NS', 'NS', 'S', 'NS', 'S','NS', 'S', 'NS','NS', 'S']\n",
    "encoded_qubits = [] #an empty list to append with circuits of single qubit.\n",
    "\n",
    "for q in range(len(alice_bits)):\n",
    "    qc = QuantumCircuit(1, 1)\n",
    "    if alice_bits[q] == 1:\n",
    "        qc.x(0)\n",
    "    if alice_choices[q]=='S':\n",
    "        qc.h(0)\n",
    "\n",
    "    encoded_qubits.append(qc)\n",
    "\n",
    "print(\"Alice created the key of 10 bits: \" + str(alice_bits))\n",
    "print(\"Alice Superposition choices:\" + str(alice_choices))\n",
    "print(\"Now, Alice 'sends' her qubits to Bob >>>>>>>>>>>>>>>>>>>>>>>>>>>>\")\n",
    "\n"
   ]
  },
  {
   "cell_type": "code",
   "execution_count": 3,
   "id": "24a312f5-7fdf-4bd9-b49d-3d9f5a28fca9",
   "metadata": {
    "tags": []
   },
   "outputs": [
    {
     "name": "stdout",
     "output_type": "stream",
     "text": [
      "***************** IF EVE INTERCEPTS! ******************\n",
      "Eve measured bits: [0, 1, 1, 0, 0, 0, 1, 0, 1, 1]\n",
      "Superposition will collapse and Bob will recives intercepted qubits.\n"
     ]
    }
   ],
   "source": [
    "\n",
    "print(\"***************** IF EVE INTERCEPTS! ******************\")\n",
    "\n",
    "for q in range(len(encoded_qubits)):\n",
    "    encoded_qubits[q].measure(0,0)\n",
    "\n",
    "eve_bits = []\n",
    "\n",
    "backend = Aer.get_backend('qasm_simulator')\n",
    "\n",
    "for q in range(len(encoded_qubits)):\n",
    "\n",
    "  job = execute(encoded_qubits[q], backend = backend, shots = 1, memory = True)\n",
    "  result = job.result()\n",
    "  measured_bit = int(result.get_memory()[0])\n",
    "\n",
    "  eve_bits.append(measured_bit)\n",
    "\n",
    "print(\"Eve measured bits: \" + str(eve_bits))\n",
    "print(\"Superposition will collapse and Bob will recives intercepted qubits.\")\n",
    "# as Qiskit does not recognize multiple measurements on the same qubit. So,\n",
    "# EVE MUST PREPARE NEW QUBITS TO BE SENT BASED ON HER MEASUREMENTS\n",
    "\n",
    "encoded_qubits = [] \n",
    "\n",
    "for q in range(len(eve_bits)):\n",
    "    qc = QuantumCircuit(1, 1)\n",
    "    if eve_bits[q] == 1:\n",
    "        qc.x(0)\n",
    "\n",
    "    encoded_qubits.append(qc)"
   ]
  },
  {
   "cell_type": "code",
   "execution_count": 4,
   "id": "bc5e5044-dad4-47c3-8531-5e1b149615fe",
   "metadata": {
    "tags": []
   },
   "outputs": [
    {
     "name": "stdout",
     "output_type": "stream",
     "text": [
      "Bob Superposition choices before measuring: ['S', 'NS', 'NS', 'NS', 'S', 'NS', 'NS', 'NS', 'S', 'S']\n",
      "bob measured: [0, 1, 1, 0, 0, 0, 1, 0, 0, 0]\n"
     ]
    }
   ],
   "source": [
    "bob_choices = ['S', 'NS', 'NS', 'NS', 'S','NS', 'NS', 'NS','S', 'S']\n",
    "\n",
    "for q in range(len(bob_choices)):\n",
    "\n",
    "    if bob_choices[q] == 'S':\n",
    "        encoded_qubits[q].h(0)\n",
    "\n",
    "    encoded_qubits[q].measure(0,0)\n",
    "    \n",
    "    \n",
    "bob_bits = []\n",
    "\n",
    "backend = Aer.get_backend('qasm_simulator')\n",
    "\n",
    "for q in range(len(encoded_qubits)):\n",
    "\n",
    "  job = execute(encoded_qubits[q], backend = backend, shots = 1, memory = True)\n",
    "  result = job.result()\n",
    "  measured_bit = int(result.get_memory()[0])\n",
    "\n",
    "  bob_bits.append(measured_bit)\n",
    "\n",
    "print(\"Bob Superposition choices before measuring: \" + str(bob_choices))\n",
    "print(\"bob measured: \" + str(bob_bits))\n",
    "\n"
   ]
  },
  {
   "cell_type": "code",
   "execution_count": 5,
   "id": "bed8f5cd-1423-4708-8953-40568f3c2613",
   "metadata": {
    "tags": []
   },
   "outputs": [
    {
     "name": "stdout",
     "output_type": "stream",
     "text": [
      "effective_alice_key [1, 0, 0, 0, 0, 1]\n",
      "effective_bob_key [1, 0, 0, 0, 0, 0]\n"
     ]
    }
   ],
   "source": [
    "alice_key = []\n",
    "\n",
    "for q in range(len(encoded_qubits)):\n",
    "    if alice_choices[q] == bob_choices[q]:\n",
    "        alice_key.append(alice_bits[q])\n",
    "print(\"effective_alice_key\",alice_key)\n",
    "        \n",
    "        \n",
    "bob_key = []\n",
    "\n",
    "for q in range(len(encoded_qubits)):\n",
    "    if alice_choices[q] == bob_choices[q]:\n",
    "       bob_key.append(bob_bits[q])\n",
    "print(\"effective_bob_key\",bob_key)\n",
    "       "
   ]
  },
  {
   "cell_type": "code",
   "execution_count": 6,
   "id": "6f89d461-167c-44e5-a824-ac41179819bb",
   "metadata": {
    "tags": []
   },
   "outputs": [
    {
     "name": "stdout",
     "output_type": "stream",
     "text": [
      "EVE DETECTED! as key mismatch Let's use another quantum channel.\n"
     ]
    }
   ],
   "source": [
    "if alice_key == bob_key:\n",
    "    print(\"SECURE! as both key match\"+'key=='+ str(alice_key) )\n",
    "else:\n",
    "    print(\"EVE DETECTED! as key mismatch Let's use another quantum channel.\")"
   ]
  },
  {
   "cell_type": "code",
   "execution_count": 7,
   "id": "e109528a-8125-4623-accb-534fa7e0a9da",
   "metadata": {
    "tags": []
   },
   "outputs": [
    {
     "name": "stdout",
     "output_type": "stream",
     "text": [
      "WITHOUT EVE'S INTERCEPTION\n",
      "$$$$$$$$$$$$$$$$$$$$$$$$$$$$$$$$$$$$$$$$$$$$$$$$$$$$$\n",
      "Alice created the key of 10 bits: [0, 1, 1, 0, 0, 0, 1, 0, 1, 1]\n",
      "Alice Superposition choices: ['NS', 'NS', 'S', 'NS', 'S', 'NS', 'S', 'NS', 'NS', 'S']\n",
      "Now, Alice 'sends' her qubits to Bob through Quantum channel\n",
      "||||||||||||||||||||||||||||||||||||||||||||||||||||||||||||\n",
      "Bob Superposition choices before measuring: ['S', 'NS', 'NS', 'NS', 'S', 'NS', 'NS', 'NS', 'S', 'S']\n",
      "Bob measured: [0, 1, 1, 0, 0, 0, 1, 0, 0, 1]\n",
      "effective_alice_key [1, 0, 0, 0, 0, 1]\n",
      "effective_bob_key [1, 0, 0, 0, 0, 1]\n",
      "||||||||||||||||||||||||||||||||||||||||||||||||||||||||||||\n",
      "SECURE! as both key match KEY==[1, 0, 0, 0, 0, 1]\n"
     ]
    }
   ],
   "source": [
    "print(\"WITHOUT EVE'S INTERCEPTION\")\n",
    "print(\"$$$$$$$$$$$$$$$$$$$$$$$$$$$$$$$$$$$$$$$$$$$$$$$$$$$$$\")\n",
    "\n",
    "alice_bits = [0,1,1,0,0,0,1,0,1,1]\n",
    "alice_choices = ['NS', 'NS', 'S', 'NS', 'S','NS', 'S', 'NS','NS', 'S']\n",
    "encoded_qubits = [] #an empty list that we will append with circuits\n",
    "\n",
    "for q in range(len(alice_bits)):\n",
    "    qc = QuantumCircuit(1, 1)\n",
    "    if alice_bits[q] == 1:\n",
    "        qc.x(0)\n",
    "    if alice_choices[q]=='S':\n",
    "        qc.h(0)\n",
    "\n",
    "    encoded_qubits.append(qc)\n",
    "\n",
    "print(\"Alice created the key of 10 bits: \" + str(alice_bits))\n",
    "print(\"Alice Superposition choices: \" + str(alice_choices))\n",
    "print(\"Now, Alice 'sends' her qubits to Bob through Quantum channel\")\n",
    "print(\"||||||||||||||||||||||||||||||||||||||||||||||||||||||||||||\")\n",
    "\n",
    "\n",
    "bob_choices = ['S', 'NS', 'NS', 'NS', 'S','NS', 'NS', 'NS','S', 'S']\n",
    "\n",
    "for q in range(len(bob_choices)):\n",
    "\n",
    "    if bob_choices[q] == 'S':\n",
    "        encoded_qubits[q].h(0)\n",
    "\n",
    "    encoded_qubits[q].measure(0,0)\n",
    "    \n",
    "#-------------------------------------------------------------------------------------    \n",
    "bob_bits = []\n",
    "\n",
    "backend = Aer.get_backend('qasm_simulator')\n",
    "\n",
    "for q in range(len(encoded_qubits)):\n",
    "\n",
    "  job = execute(encoded_qubits[q], backend = backend, shots = 1, memory = True)\n",
    "  result = job.result()\n",
    "  measured_bit = int(result.get_memory()[0])\n",
    "\n",
    "  bob_bits.append(measured_bit)\n",
    "\n",
    "print(\"Bob Superposition choices before measuring: \" + str(bob_choices))\n",
    "print(\"Bob measured: \" + str(bob_bits))\n",
    "#------------------------------------------------------------------------------------\n",
    "alice_key = []\n",
    "\n",
    "for q in range(len(encoded_qubits)):\n",
    "    if alice_choices[q] == bob_choices[q]:\n",
    "        alice_key.append(alice_bits[q])\n",
    "print(\"effective_alice_key\",alice_key)\n",
    "        \n",
    "        \n",
    "bob_key = []\n",
    "\n",
    "for q in range(len(encoded_qubits)):\n",
    "    if alice_choices[q] == bob_choices[q]:\n",
    "       bob_key.append(bob_bits[q])\n",
    "print(\"effective_bob_key\",bob_key)\n",
    "\n",
    "print(\"||||||||||||||||||||||||||||||||||||||||||||||||||||||||||||\")\n",
    "if alice_key == bob_key:\n",
    "    print(\"SECURE! as both key match \"+'KEY=='+ str(alice_key) )\n",
    "else:\n",
    "    print(\"EVE DETECTED! as key mismatch Let's use another quantum channel.\")\n"
   ]
  },
  {
   "cell_type": "code",
   "execution_count": null,
   "id": "9301c9fc-edb3-4343-93a8-d0947ede4193",
   "metadata": {},
   "outputs": [],
   "source": []
  }
 ],
 "metadata": {
  "kernelspec": {
   "display_name": "Python 3 (ipykernel)",
   "language": "python",
   "name": "python3"
  },
  "language_info": {
   "codemirror_mode": {
    "name": "ipython",
    "version": 3
   },
   "file_extension": ".py",
   "mimetype": "text/x-python",
   "name": "python",
   "nbconvert_exporter": "python",
   "pygments_lexer": "ipython3",
   "version": "3.10.8"
  },
  "widgets": {
   "application/vnd.jupyter.widget-state+json": {
    "state": {
     "00ea6f3ba93b48e3a415f7c15c1fca79": {
      "model_module": "@jupyter-widgets/base",
      "model_module_version": "2.0.0",
      "model_name": "LayoutModel",
      "state": {
       "margin": "0px 0px 10px 0px"
      }
     },
     "0a2c72317b4c4e84995c74acd240eb1e": {
      "model_module": "@jupyter-widgets/base",
      "model_module_version": "2.0.0",
      "model_name": "LayoutModel",
      "state": {
       "margin": "0px 0px 0px 37px",
       "width": "600px"
      }
     },
     "0b76675c38214b49913978ce27a04236": {
      "model_module": "@jupyter-widgets/controls",
      "model_module_version": "2.0.0",
      "model_name": "HTMLStyleModel",
      "state": {
       "description_width": "",
       "font_size": null,
       "text_color": null
      }
     },
     "1fb394f87fbc4c35b629f8dc2a52a488": {
      "model_module": "@jupyter-widgets/controls",
      "model_module_version": "2.0.0",
      "model_name": "HTMLModel",
      "state": {
       "layout": "IPY_MODEL_3cb7a661ea6c4032859c28f8022d8fd5",
       "style": "IPY_MODEL_0b76675c38214b49913978ce27a04236",
       "value": "<h5>Queue</h5>"
      }
     },
     "2ff17654e45f46bbab230f43a3ac4e29": {
      "model_module": "@jupyter-widgets/base",
      "model_module_version": "2.0.0",
      "model_name": "LayoutModel",
      "state": {
       "grid_area": "right",
       "padding": "0px 0px 0px 0px",
       "width": "70px"
      }
     },
     "36391a9afeae40eaa1eb31b528029dd4": {
      "model_module": "@jupyter-widgets/base",
      "model_module_version": "2.0.0",
      "model_name": "LayoutModel",
      "state": {
       "width": "95px"
      }
     },
     "37acbe1117cf46bcb92505285e94c088": {
      "model_module": "@jupyter-widgets/base",
      "model_module_version": "2.0.0",
      "model_name": "LayoutModel",
      "state": {
       "grid_template_areas": "\n                                       \". . . . right \"\n                                        ",
       "grid_template_columns": "20% 20% 20% 20% 20%",
       "width": "100%"
      }
     },
     "3cb7a661ea6c4032859c28f8022d8fd5": {
      "model_module": "@jupyter-widgets/base",
      "model_module_version": "2.0.0",
      "model_name": "LayoutModel",
      "state": {
       "width": "70px"
      }
     },
     "3d95bf9916f74353bc8933b89d65de82": {
      "model_module": "@jupyter-widgets/base",
      "model_module_version": "2.0.0",
      "model_name": "LayoutModel",
      "state": {
       "width": "145px"
      }
     },
     "585e3866f3bb4a2a8ac4dfb6fd4a00a8": {
      "model_module": "@jupyter-widgets/controls",
      "model_module_version": "2.0.0",
      "model_name": "HTMLModel",
      "state": {
       "layout": "IPY_MODEL_5d632060b8874a76b115f835a4289e5b",
       "style": "IPY_MODEL_bfb2631b12824b6398d8a2ea4b8d31be",
       "value": "<h5>Message</h5>"
      }
     },
     "5d632060b8874a76b115f835a4289e5b": {
      "model_module": "@jupyter-widgets/base",
      "model_module_version": "2.0.0",
      "model_name": "LayoutModel",
      "state": {}
     },
     "6a75645e560b41de951fcc3f151afd0e": {
      "model_module": "@jupyter-widgets/controls",
      "model_module_version": "2.0.0",
      "model_name": "ButtonModel",
      "state": {
       "button_style": "primary",
       "description": "Clear",
       "layout": "IPY_MODEL_2ff17654e45f46bbab230f43a3ac4e29",
       "style": "IPY_MODEL_7e5ec9225735448e9622e20900e93682",
       "tooltip": null
      }
     },
     "71d1e18f40364618bdf86071d98152a5": {
      "model_module": "@jupyter-widgets/controls",
      "model_module_version": "2.0.0",
      "model_name": "HTMLModel",
      "state": {
       "layout": "IPY_MODEL_36391a9afeae40eaa1eb31b528029dd4",
       "style": "IPY_MODEL_83f694167886464984ba3448ef92f08f",
       "value": "<h5>Status</h5>"
      }
     },
     "73308db9254f4f64aeb6b6507a0f1406": {
      "model_module": "@jupyter-widgets/base",
      "model_module_version": "2.0.0",
      "model_name": "LayoutModel",
      "state": {
       "width": "190px"
      }
     },
     "7e5ec9225735448e9622e20900e93682": {
      "model_module": "@jupyter-widgets/controls",
      "model_module_version": "2.0.0",
      "model_name": "ButtonStyleModel",
      "state": {
       "font_family": null,
       "font_size": null,
       "font_style": null,
       "font_variant": null,
       "font_weight": null,
       "text_color": null,
       "text_decoration": null
      }
     },
     "83f694167886464984ba3448ef92f08f": {
      "model_module": "@jupyter-widgets/controls",
      "model_module_version": "2.0.0",
      "model_name": "HTMLStyleModel",
      "state": {
       "description_width": "",
       "font_size": null,
       "text_color": null
      }
     },
     "9f9f2c0110264fe8bb871b2a653f0b0e": {
      "model_module": "@jupyter-widgets/controls",
      "model_module_version": "2.0.0",
      "model_name": "HTMLModel",
      "state": {
       "layout": "IPY_MODEL_00ea6f3ba93b48e3a415f7c15c1fca79",
       "style": "IPY_MODEL_c44c839042134e8185573127408d8b69",
       "value": "<p style='font-family: IBM Plex Sans, Arial, Helvetica, sans-serif; font-size: 20px; font-weight: medium;'>Circuit Properties</p>"
      }
     },
     "a8bd3d0176dc490e998a81b562850381": {
      "model_module": "@jupyter-widgets/controls",
      "model_module_version": "2.0.0",
      "model_name": "HTMLStyleModel",
      "state": {
       "description_width": "",
       "font_size": null,
       "text_color": null
      }
     },
     "b66d42495d09436080e71360f4a09b63": {
      "model_module": "@jupyter-widgets/controls",
      "model_module_version": "2.0.0",
      "model_name": "HTMLStyleModel",
      "state": {
       "description_width": "",
       "font_size": null,
       "text_color": null
      }
     },
     "bfb2631b12824b6398d8a2ea4b8d31be": {
      "model_module": "@jupyter-widgets/controls",
      "model_module_version": "2.0.0",
      "model_name": "HTMLStyleModel",
      "state": {
       "description_width": "",
       "font_size": null,
       "text_color": null
      }
     },
     "c44c839042134e8185573127408d8b69": {
      "model_module": "@jupyter-widgets/controls",
      "model_module_version": "2.0.0",
      "model_name": "HTMLStyleModel",
      "state": {
       "description_width": "",
       "font_size": null,
       "text_color": null
      }
     },
     "c7fa7854b24f428d9ef1a98fcaa46227": {
      "model_module": "@jupyter-widgets/controls",
      "model_module_version": "2.0.0",
      "model_name": "HTMLModel",
      "state": {
       "layout": "IPY_MODEL_3d95bf9916f74353bc8933b89d65de82",
       "style": "IPY_MODEL_a8bd3d0176dc490e998a81b562850381",
       "value": "<h5>Backend</h5>"
      }
     },
     "d8f16fd2611641a8811460620180cada": {
      "model_module": "@jupyter-widgets/controls",
      "model_module_version": "2.0.0",
      "model_name": "GridBoxModel",
      "state": {
       "children": [
        "IPY_MODEL_6a75645e560b41de951fcc3f151afd0e"
       ],
       "layout": "IPY_MODEL_37acbe1117cf46bcb92505285e94c088"
      }
     },
     "dd1e324581504728be59f9f5d4c0eb7a": {
      "model_module": "@jupyter-widgets/controls",
      "model_module_version": "2.0.0",
      "model_name": "HTMLModel",
      "state": {
       "layout": "IPY_MODEL_73308db9254f4f64aeb6b6507a0f1406",
       "style": "IPY_MODEL_b66d42495d09436080e71360f4a09b63",
       "value": "<h5>Job ID</h5>"
      }
     },
     "dd8d177bd4f74208b80d7cb58b8a284b": {
      "model_module": "@jupyter-widgets/controls",
      "model_module_version": "2.0.0",
      "model_name": "HBoxModel",
      "state": {
       "children": [
        "IPY_MODEL_dd1e324581504728be59f9f5d4c0eb7a",
        "IPY_MODEL_c7fa7854b24f428d9ef1a98fcaa46227",
        "IPY_MODEL_71d1e18f40364618bdf86071d98152a5",
        "IPY_MODEL_1fb394f87fbc4c35b629f8dc2a52a488",
        "IPY_MODEL_585e3866f3bb4a2a8ac4dfb6fd4a00a8"
       ],
       "layout": "IPY_MODEL_0a2c72317b4c4e84995c74acd240eb1e"
      }
     }
    },
    "version_major": 2,
    "version_minor": 0
   }
  }
 },
 "nbformat": 4,
 "nbformat_minor": 5
}
